{
 "cells": [
  {
   "cell_type": "code",
   "execution_count": 170,
   "metadata": {},
   "outputs": [],
   "source": [
    "import arcpy\n",
    "from arcpy import env\n",
    "from arcpy.sa import *\n",
    "env.workspace = \"C:\\Rok3\\teledetekcja\\2\\proj2\"\n",
    "image = \"C:\\Rok3\\teledetekcja\\2\\pleiades_ms_20130620_Dworzec_Zach.img\"\n",
    "image2 = \"C:\\Rok3\\teledetekcja\\2\\proj2\\S2B_tile.TIF\""
   ]
  },
  {
   "cell_type": "code",
   "execution_count": 171,
   "metadata": {},
   "outputs": [],
   "source": [
    "blue = arcpy.sa.ExtractBand(\"S2B_tile.TIF\", [1])\n",
    "green = arcpy.sa.ExtractBand(\"S2B_tile.TIF\", [2])\n",
    "red = arcpy.sa.ExtractBand(\"S2B_tile.TIF\", [3])\n",
    "nir = arcpy.sa.ExtractBand(\"S2B_tile.TIF\", [4])\n",
    "blue.save(r\"c:\\Rok3\\teledetekcja\\2\\proj2\\blue.tif\")\n",
    "green.save(r\"c:\\Rok3\\teledetekcja\\2\\proj2\\green.tif\")\n",
    "red.save(r\"c:\\Rok3\\teledetekcja\\2\\proj2\\red.tif\")\n",
    "nir.save(r\"c:\\Rok3\\teledetekcja\\2\\proj2\\nir.tif\")"
   ]
  },
  {
   "cell_type": "code",
   "execution_count": 172,
   "metadata": {},
   "outputs": [],
   "source": [
    "ndvi = arcpy.ia.RasterCalculator([nir,red], ['nir','red'],\"(nir-red)/(nir+red)\")\n",
    "ndvi.save(r\"c:\\Rok3\\teledetekcja\\2\\proj2\\ndvi.tif\")"
   ]
  },
  {
   "cell_type": "code",
   "execution_count": 173,
   "metadata": {},
   "outputs": [],
   "source": [
    "blue_nir = arcpy.ia.RasterCalculator([blue, nir],['blue','nir'],\"(blue+0) / (nir+0)\")\n",
    "blue_nir.save(r\"c:\\Rok3\\teledetekcja\\2\\proj2\\blue_nir.tif\")"
   ]
  },
  {
   "cell_type": "code",
   "execution_count": 174,
   "metadata": {},
   "outputs": [
    {
     "name": "stdout",
     "output_type": "stream",
     "text": [
      "min1: -0,278904175718079, max1: 0,871574934477007\n"
     ]
    }
   ],
   "source": [
    "min1 = arcpy.management.GetRasterProperties(ndvi, \"MINIMUM\")[0]\n",
    "max1 = arcpy.management.GetRasterProperties(ndvi, \"MAXIMUM\")[0]\n",
    "print(f\"min1: {min1}, max1: {max1}\")"
   ]
  },
  {
   "cell_type": "code",
   "execution_count": 175,
   "metadata": {},
   "outputs": [],
   "source": [
    "Reclass_ndvi = arcpy.sa.Reclassify(\n",
    "    in_raster=\"ndvi.tif\",\n",
    "    reclass_field=\"VALUE\",\n",
    "    remap=f'{min1} 0,160000 0;0,160000 {max1} 1', \n",
    "#     remap=\"-0,757303 0,160000 0;0,160000 0,692967 1\",\n",
    "    missing_values=\"DATA\"\n",
    ")\n",
    "Reclass_ndvi.save(r\"C:\\Rok3\\teledetekcja\\2\\proj2\\Reclass_ndvi.tif\")"
   ]
  },
  {
   "cell_type": "code",
   "execution_count": 176,
   "metadata": {},
   "outputs": [],
   "source": [
    "bluenir_minus_ndvirec = arcpy.ia.RasterCalculator(['blue_nir.tif','Reclass_ndvi.tif'],['bluenir','ReclassNDVI'],\"bluenir-ReclassNDVI\")\n",
    "bluenir_minus_ndvirec.save(r\"c:\\Rok3\\teledetekcja\\2\\proj2\\bluenir_minus_ndvirec.tif\")"
   ]
  },
  {
   "cell_type": "code",
   "execution_count": 177,
   "metadata": {},
   "outputs": [
    {
     "name": "stdout",
     "output_type": "stream",
     "text": [
      "min2: -0,923233609166136, max2: 1,72564734895191\n"
     ]
    }
   ],
   "source": [
    "min2 = arcpy.management.GetRasterProperties(bluenir_minus_ndvirec, \"MINIMUM\")[0]\n",
    "max2 = arcpy.management.GetRasterProperties(bluenir_minus_ndvirec, \"MAXIMUM\")[0]\n",
    "print(f\"min2: {min2}, max2: {max2}\")"
   ]
  },
  {
   "cell_type": "code",
   "execution_count": 179,
   "metadata": {},
   "outputs": [],
   "source": [
    "bluenir_minus_ndvirec_reclass = arcpy.sa.Reclassify(\n",
    "    in_raster=\"bluenir_minus_ndvirec.tif\",\n",
    "    reclass_field=\"Value\",\n",
    "    remap=f'{min2} 0,630000 0;0,630000 0,860000 1;0,860000 {max2} 0',\n",
    "    missing_values=\"DATA\"\n",
    ")\n",
    "bluenir_minus_ndvirec_reclass.save(r\"C:\\Rok3\\teledetekcja\\2\\proj2\\bluenir_minus_ndvirec_reclass.tif\")"
   ]
  },
  {
   "cell_type": "code",
   "execution_count": 180,
   "metadata": {},
   "outputs": [],
   "source": [
    "nir_blue = arcpy.ia.RasterCalculator([nir,blue], ['nir','blue'],\"(nir+0)/(blue+0)\")\n",
    "nir_blue.save(r\"c:\\Rok3\\teledetekcja\\2\\proj2\\nir_blue.tif\")"
   ]
  },
  {
   "cell_type": "code",
   "execution_count": 181,
   "metadata": {},
   "outputs": [
    {
     "name": "stdout",
     "output_type": "stream",
     "text": [
      "min3: 0,579492675955698, max3: 13,0265339966833\n"
     ]
    }
   ],
   "source": [
    "min3 = arcpy.management.GetRasterProperties(nir_blue, \"MINIMUM\")[0]\n",
    "max3 = arcpy.management.GetRasterProperties(nir_blue, \"MAXIMUM\")[0]\n",
    "print(f\"min3: {min3}, max3: {max3}\")"
   ]
  },
  {
   "cell_type": "code",
   "execution_count": 182,
   "metadata": {},
   "outputs": [],
   "source": [
    "nir_blueReclass = arcpy.sa.Reclassify(\n",
    "    in_raster=\"nir_blue.tif\",\n",
    "    reclass_field=\"Value\",\n",
    "    remap=f'{min3} 1,200000 0;1,200000 1,490000 1;1,490000 {max3} 0',\n",
    "    missing_values=\"DATA\"\n",
    ")\n",
    "nir_blueReclass.save(r\"C:\\Rok3\\teledetekcja\\2\\proj2\\nir_blueReclass.tif\")"
   ]
  },
  {
   "cell_type": "code",
   "execution_count": 183,
   "metadata": {},
   "outputs": [],
   "source": [
    "ironoxide = arcpy.ia.RasterCalculator([red,blue], ['red','blue'],\"(red+0)/(blue+0)\")\n",
    "ironoxide.save(r\"c:\\Rok3\\teledetekcja\\2\\proj2\\ironoxide.tif\")"
   ]
  },
  {
   "cell_type": "code",
   "execution_count": 184,
   "metadata": {},
   "outputs": [
    {
     "name": "stdout",
     "output_type": "stream",
     "text": [
      "min4: 0,533256217466744, max4: 5,65675467828762\n"
     ]
    }
   ],
   "source": [
    "min4 = arcpy.management.GetRasterProperties(ironoxide, \"MINIMUM\")[0]\n",
    "max4 = arcpy.management.GetRasterProperties(ironoxide, \"MAXIMUM\")[0]\n",
    "print(f\"min4: {min4}, max4: {max4}\")"
   ]
  },
  {
   "cell_type": "code",
   "execution_count": 185,
   "metadata": {},
   "outputs": [],
   "source": [
    "ironReclass = arcpy.sa.Reclassify(\n",
    "    in_raster=\"ironoxide.tif\",\n",
    "    reclass_field=\"Value\",\n",
    "    remap=f'{min4} 1,180000 1;1,180000 1,350000 0;1,350000 {max4} 1',\n",
    "    missing_values=\"DATA\"\n",
    ")\n",
    "ironReclass.save(r\"C:\\Rok3\\teledetekcja\\2\\proj2\\ironReclass.tif\")"
   ]
  },
  {
   "cell_type": "code",
   "execution_count": 186,
   "metadata": {},
   "outputs": [
    {
     "data": {
      "text/html": [
       "<div class='gpresult'><h2>Messages</h2><div id='messages' data-messages='[\"Start Time: niedziela, 7 stycznia 2024 13:51:51\",\"Succeeded at niedziela, 7 stycznia 2024 13:52:08 (Elapsed Time: 16,62 seconds)\"]' data-show='true'><div id = 'default' /></div></div>"
      ],
      "text/plain": [
       "<Result 'C:\\\\Rok3\\\\teledetekcja\\\\2\\\\projekt.gdb\\\\RasterT_bluenirndvi'>"
      ]
     },
     "execution_count": 186,
     "metadata": {},
     "output_type": "execute_result"
    }
   ],
   "source": [
    "arcpy.conversion.RasterToPolygon(\n",
    "    in_raster=\"bluenir_minus_ndvirec_reclass\",\n",
    "    out_polygon_features=r\"C:\\Rok3\\teledetekcja\\2\\projekt.gdb\\RasterT_bluenirndvi\",\n",
    "    simplify=\"SIMPLIFY\",\n",
    "    raster_field=\"Value\",\n",
    "    create_multipart_features=\"SINGLE_OUTER_PART\",\n",
    "    max_vertices_per_feature=None\n",
    ")"
   ]
  },
  {
   "cell_type": "code",
   "execution_count": 187,
   "metadata": {},
   "outputs": [
    {
     "data": {
      "text/html": [
       "<div class='gpresult'><h2>Messages</h2><div id='messages' data-messages='[\"Start Time: niedziela, 7 stycznia 2024 13:52:11\",\"Succeeded at niedziela, 7 stycznia 2024 13:52:17 (Elapsed Time: 5,55 seconds)\"]' data-show='true'><div id = 'default' /></div></div>"
      ],
      "text/plain": [
       "<Result 'C:\\\\Rok3\\\\teledetekcja\\\\2\\\\proj2\\\\bluenirndvi.shp'>"
      ]
     },
     "execution_count": 187,
     "metadata": {},
     "output_type": "execute_result"
    }
   ],
   "source": [
    "bluenirndvi = arcpy.management.SelectLayerByAttribute(\n",
    "    in_layer_or_view=\"RasterT_bluenirndvi\",\n",
    "    selection_type=\"NEW_SELECTION\",\n",
    "    where_clause=\"gridcode = 1\",\n",
    "    invert_where_clause=None\n",
    ")\n",
    "arcpy.management.CopyFeatures(bluenirndvi,\n",
    "     out_feature_class=r\"C:\\Rok3\\teledetekcja\\2\\proj2\\bluenirndvi\")"
   ]
  },
  {
   "cell_type": "code",
   "execution_count": 188,
   "metadata": {},
   "outputs": [
    {
     "data": {
      "text/html": [
       "<div class='gpresult'><h2>Messages</h2><div id='messages' data-messages='[\"Start Time: niedziela, 7 stycznia 2024 13:52:17\",\"Succeeded at niedziela, 7 stycznia 2024 13:52:25 (Elapsed Time: 7,98 seconds)\"]' data-show='true'><div id = 'default' /></div></div>"
      ],
      "text/plain": [
       "<Result 'C:\\\\Rok3\\\\teledetekcja\\\\2\\\\proj2\\\\RasterT_nir_blueReclass.shp'>"
      ]
     },
     "execution_count": 188,
     "metadata": {},
     "output_type": "execute_result"
    }
   ],
   "source": [
    "arcpy.conversion.RasterToPolygon(\n",
    "    in_raster=\"nir_blueReclass\",\n",
    "    out_polygon_features=r\"C:\\Rok3\\teledetekcja\\2\\proj2\\RasterT_nir_blueReclass\",\n",
    "    simplify=\"SIMPLIFY\",\n",
    "    raster_field=\"Value\",\n",
    "    create_multipart_features=\"SINGLE_OUTER_PART\",\n",
    "    max_vertices_per_feature=None\n",
    ")"
   ]
  },
  {
   "cell_type": "code",
   "execution_count": 189,
   "metadata": {},
   "outputs": [
    {
     "data": {
      "text/html": [
       "<div class='gpresult'><h2>Messages</h2><div id='messages' data-messages='[\"Start Time: niedziela, 7 stycznia 2024 13:52:25\",\"Succeeded at niedziela, 7 stycznia 2024 13:52:32 (Elapsed Time: 6,23 seconds)\"]' data-show='true'><div id = 'default' /></div></div>"
      ],
      "text/plain": [
       "<Result 'C:\\\\Rok3\\\\teledetekcja\\\\2\\\\proj2\\\\RasterT_nirblue.shp'>"
      ]
     },
     "execution_count": 189,
     "metadata": {},
     "output_type": "execute_result"
    }
   ],
   "source": [
    "RasterT_nirblue = arcpy.management.SelectLayerByAttribute(\n",
    "    in_layer_or_view=\"RasterT_nir_blueReclass\",\n",
    "    selection_type=\"NEW_SELECTION\",\n",
    "    where_clause=\"gridcode = 1\",\n",
    "    invert_where_clause=None\n",
    ")\n",
    "arcpy.management.CopyFeatures(bluenirndvi,\n",
    "     out_feature_class=r\"C:\\Rok3\\teledetekcja\\2\\proj2\\RasterT_nirblue\")"
   ]
  },
  {
   "cell_type": "code",
   "execution_count": 190,
   "metadata": {},
   "outputs": [
    {
     "data": {
      "text/html": [
       "<div class='gpresult'><h2>Messages</h2><div id='messages' data-messages='[\"Start Time: niedziela, 7 stycznia 2024 13:52:32\",\"Succeeded at niedziela, 7 stycznia 2024 13:52:40 (Elapsed Time: 7,74 seconds)\"]' data-show='true'><div id = 'default' /></div></div>"
      ],
      "text/plain": [
       "<Result 'C:\\\\Rok3\\\\teledetekcja\\\\2\\\\projekt.gdb\\\\RasterT_ironReclass'>"
      ]
     },
     "execution_count": 190,
     "metadata": {},
     "output_type": "execute_result"
    }
   ],
   "source": [
    "arcpy.conversion.RasterToPolygon(\n",
    "    in_raster=\"ironReclass\",\n",
    "    out_polygon_features=r\"C:\\Rok3\\teledetekcja\\2\\projekt.gdb\\RasterT_ironReclass\",\n",
    "    simplify=\"SIMPLIFY\",\n",
    "    raster_field=\"Value\",\n",
    "    create_multipart_features=\"SINGLE_OUTER_PART\",\n",
    "    max_vertices_per_feature=None\n",
    ")"
   ]
  },
  {
   "cell_type": "code",
   "execution_count": 191,
   "metadata": {},
   "outputs": [
    {
     "data": {
      "text/html": [
       "<div class='gpresult'><h2>Messages</h2><div id='messages' data-messages='[\"Start Time: niedziela, 7 stycznia 2024 13:52:40\",\"Succeeded at niedziela, 7 stycznia 2024 13:52:47 (Elapsed Time: 6,68 seconds)\"]' data-show='true'><div id = 'default' /></div></div>"
      ],
      "text/plain": [
       "<Result 'C:\\\\Rok3\\\\teledetekcja\\\\2\\\\proj2\\\\RasterT_ironoxide.shp'>"
      ]
     },
     "execution_count": 191,
     "metadata": {},
     "output_type": "execute_result"
    }
   ],
   "source": [
    "RasterT_ironoxide = arcpy.management.SelectLayerByAttribute(\n",
    "    in_layer_or_view=\"RasterT_ironReclass\",\n",
    "    selection_type=\"NEW_SELECTION\",\n",
    "    where_clause=\"gridcode = 0\",\n",
    "    invert_where_clause=None\n",
    ")\n",
    "arcpy.management.CopyFeatures(bluenirndvi,\n",
    "     out_feature_class=r\"C:\\Rok3\\teledetekcja\\2\\proj2\\RasterT_ironoxide\")"
   ]
  },
  {
   "cell_type": "code",
   "execution_count": 192,
   "metadata": {},
   "outputs": [
    {
     "data": {
      "text/html": [
       "<div class='gpresult'><h2>Messages</h2><div id='messages' data-messages='[\"Start Time: niedziela, 7 stycznia 2024 13:52:48\",\"Succeeded at niedziela, 7 stycznia 2024 13:52:55 (Elapsed Time: 6,02 seconds)\"]' data-show='true'><div id = 'default' /></div></div>"
      ],
      "text/plain": [
       "<Result 'C:\\\\Rok3\\\\teledetekcja\\\\2\\\\proj2\\\\raster1i2.shp'>"
      ]
     },
     "execution_count": 192,
     "metadata": {},
     "output_type": "execute_result"
    }
   ],
   "source": [
    "raster1i2 = arcpy.management.SelectLayerByLocation(\n",
    "    in_layer=\"RasterT_nirblue\",\n",
    "    overlap_type=\"CONTAINS\",\n",
    "    select_features=\"bluenirndvi\",\n",
    "    search_distance=None,\n",
    "    selection_type=\"NEW_SELECTION\",\n",
    "    invert_spatial_relationship=\"NOT_INVERT\"\n",
    ")\n",
    "arcpy.management.CopyFeatures(raster1i2,\n",
    "     out_feature_class=r\"C:\\Rok3\\teledetekcja\\2\\proj2\\raster1i2\")"
   ]
  },
  {
   "cell_type": "code",
   "execution_count": 193,
   "metadata": {},
   "outputs": [
    {
     "data": {
      "text/html": [
       "<div class='gpresult'><h2>Messages</h2><div id='messages' data-messages='[\"Start Time: niedziela, 7 stycznia 2024 13:52:56\",\"Succeeded at niedziela, 7 stycznia 2024 13:53:03 (Elapsed Time: 6,40 seconds)\"]' data-show='true'><div id = 'default' /></div></div>"
      ],
      "text/plain": [
       "<Result 'C:\\\\Rok3\\\\teledetekcja\\\\2\\\\proj2\\\\rastry.shp'>"
      ]
     },
     "execution_count": 193,
     "metadata": {},
     "output_type": "execute_result"
    }
   ],
   "source": [
    "# rastryErase = arcpy.analysis.Erase(\n",
    "#     in_features=\"raster1i2\",\n",
    "#     erase_features=\"RasterT_ironoxide\",\n",
    "#     out_feature_class=r\"C:\\Rok3\\teledetekcja\\2\\proj2\\rastryErase\",\n",
    "#     cluster_tolerance=None\n",
    "# )\n",
    "rastry = arcpy.management.SelectLayerByLocation(\n",
    "    in_layer=\"raster1i2\",\n",
    "    overlap_type=\"CONTAINS\",\n",
    "    select_features=\"RasterT_ironoxide\",\n",
    "    search_distance=None,\n",
    "    selection_type=\"NEW_SELECTION\",\n",
    "    invert_spatial_relationship=\"NOT_INVERT\"\n",
    ")\n",
    "arcpy.management.CopyFeatures(rastry,\n",
    "     out_feature_class=r\"C:\\Rok3\\teledetekcja\\2\\proj2\\rastry\")"
   ]
  },
  {
   "cell_type": "code",
   "execution_count": 194,
   "metadata": {},
   "outputs": [],
   "source": [
    "rastryMultipartToSingle = arcpy.management.MultipartToSinglepart(\n",
    "    in_features=\"rastry\",\n",
    "    out_feature_class=r\"C:\\Rok3\\teledetekcja\\2\\proj2\\rastryEraseMultipartToSingle\"\n",
    ")"
   ]
  },
  {
   "cell_type": "code",
   "execution_count": 195,
   "metadata": {},
   "outputs": [
    {
     "data": {
      "text/html": [
       "<div class='gpresult'><h2>Messages</h2><div id='messages' data-messages='[\"Start Time: niedziela, 7 stycznia 2024 13:53:11\",\"Succeeded at niedziela, 7 stycznia 2024 13:53:23 (Elapsed Time: 12,80 seconds)\"]' data-show='true'><div id = 'default' /></div></div>"
      ],
      "text/plain": [
       "<Result 'rastryEraseMultipartToSingle'>"
      ]
     },
     "execution_count": 195,
     "metadata": {},
     "output_type": "execute_result"
    }
   ],
   "source": [
    "arcpy.management.CalculateGeometryAttributes(\n",
    "    in_features=\"rastryEraseMultipartToSingle\",\n",
    "    geometry_property=\"area AREA;numholes HOLE_COUNT\",\n",
    "    length_unit=\"KILOMETERS\",\n",
    "    area_unit=\"SQUARE_METERS\",\n",
    "    coordinate_system=None,\n",
    "    coordinate_format=\"SAME_AS_INPUT\"\n",
    ")"
   ]
  },
  {
   "cell_type": "code",
   "execution_count": 196,
   "metadata": {},
   "outputs": [
    {
     "data": {
      "text/html": [
       "<div class='gpresult'><h2>Messages</h2><div id='messages' data-messages='[\"Start Time: niedziela, 7 stycznia 2024 13:53:24\",\"Succeeded at niedziela, 7 stycznia 2024 13:53:29 (Elapsed Time: 4,95 seconds)\"]' data-show='true'><div id = 'default' /></div></div>"
      ],
      "text/plain": [
       "<Result 'C:\\\\Rok3\\\\teledetekcja\\\\2\\\\proj2\\\\rastryEraseMultipartToSingle_CopyFeatures.shp'>"
      ]
     },
     "execution_count": 196,
     "metadata": {},
     "output_type": "execute_result"
    }
   ],
   "source": [
    "wieksze = arcpy.management.SelectLayerByAttribute(\n",
    "    in_layer_or_view=\"rastryEraseMultipartToSingle\",\n",
    "    selection_type=\"NEW_SELECTION\",\n",
    "    where_clause=\"area > 20000\",\n",
    "    invert_where_clause=None\n",
    ")\n",
    "arcpy.management.CopyFeatures(wieksze,r\"C:\\Rok3\\teledetekcja\\2\\proj2\\rastryEraseMultipartToSingle_CopyFeatures\")"
   ]
  },
  {
   "cell_type": "code",
   "execution_count": 197,
   "metadata": {},
   "outputs": [
    {
     "data": {
      "text/html": [
       "<div class='gpresult'><h2>Messages</h2><div id='messages' data-messages='[\"Start Time: niedziela, 7 stycznia 2024 13:53:29\",\"Reading Features...\",\"Cracking Features...\",\"Assembling Features...\",\"Succeeded at niedziela, 7 stycznia 2024 13:53:35 (Elapsed Time: 5,63 seconds)\"]' data-show='true'><div id = 'default' /></div></div>"
      ],
      "text/plain": [
       "<Result 'C:\\\\Rok3\\\\teledetekcja\\\\2\\\\projekt.gdb\\\\rastry_PolygonToLine1'>"
      ]
     },
     "execution_count": 197,
     "metadata": {},
     "output_type": "execute_result"
    }
   ],
   "source": [
    "arcpy.management.PolygonToLine(\n",
    "    in_features=\"rastryEraseMultipartToSingle_CopyFeatures\",\n",
    "    out_feature_class=r\"C:\\Rok3\\teledetekcja\\2\\projekt.gdb\\rastry_PolygonToLine1\",\n",
    "    neighbor_option=\"IDENTIFY_NEIGHBORS\"\n",
    ")"
   ]
  },
  {
   "cell_type": "code",
   "execution_count": 198,
   "metadata": {},
   "outputs": [
    {
     "data": {
      "text/html": [
       "<div class='gpresult'><h2>Messages</h2><div id='messages' data-messages='[\"Start Time: niedziela, 7 stycznia 2024 13:53:35\",\"Succeeded at niedziela, 7 stycznia 2024 13:53:41 (Elapsed Time: 5,70 seconds)\"]' data-show='true'><div id = 'default' /></div></div>"
      ],
      "text/plain": [
       "<Result 'C:\\\\Rok3\\\\teledetekcja\\\\2\\\\proj2\\\\wynik.shp'>"
      ]
     },
     "execution_count": 198,
     "metadata": {},
     "output_type": "execute_result"
    }
   ],
   "source": [
    "wynik = arcpy.management.SelectLayerByAttribute(\n",
    "    in_layer_or_view=\"rastry_PolygonToLine1\",\n",
    "    selection_type=\"NEW_SELECTION\",\n",
    "    where_clause=\"Shape_Length > 1000\",\n",
    "    invert_where_clause=None\n",
    ")\n",
    "arcpy.management.CopyFeatures(wynik,r\"C:\\Rok3\\teledetekcja\\2\\proj2\\wynik\")"
   ]
  },
  {
   "cell_type": "code",
   "execution_count": 199,
   "metadata": {},
   "outputs": [
    {
     "data": {
      "text/html": [
       "<div class='gpresult'><h2>Messages</h2><div id='messages' data-messages='[\"Start Time: niedziela, 7 stycznia 2024 13:53:47\",\"Succeeded at niedziela, 7 stycznia 2024 13:53:52 (Elapsed Time: 5,13 seconds)\"]' data-show='true'><div id = 'default' /></div></div>"
      ],
      "text/plain": [
       "<Result 'C:\\\\Rok3\\\\teledetekcja\\\\2\\\\proj2\\\\wynik2.shp'>"
      ]
     },
     "execution_count": 199,
     "metadata": {},
     "output_type": "execute_result"
    }
   ],
   "source": [
    "podzielone = arcpy.management.SplitLine(\n",
    "    in_features=\"wynik\",\n",
    "    out_feature_class=r\"C:\\Rok3\\teledetekcja\\2\\projekt.gdb\\wynik_SplitLine\"\n",
    ")\n",
    "wynik2 = arcpy.management.SelectLayerByAttribute(\n",
    "    in_layer_or_view=podzielone,\n",
    "    selection_type=\"NEW_SELECTION\",\n",
    "    where_clause=\"Shape_Length > 35\",\n",
    "    invert_where_clause=None\n",
    ")\n",
    "arcpy.management.CopyFeatures(wynik2,r\"C:\\Rok3\\teledetekcja\\2\\proj2\\wynik2\")\n"
   ]
  },
  {
   "cell_type": "code",
   "execution_count": 200,
   "metadata": {},
   "outputs": [
    {
     "data": {
      "text/html": [
       "<div class='gpresult'><h2>Messages</h2><div id='messages' data-messages='[\"Start Time: niedziela, 7 stycznia 2024 13:53:59\",\"Succeeded at niedziela, 7 stycznia 2024 13:54:05 (Elapsed Time: 5,44 seconds)\"]' data-show='true'><div id = 'default' /></div></div>"
      ],
      "text/plain": [
       "<Result 'C:\\\\Rok3\\\\teledetekcja\\\\2\\\\proj2\\\\wynik3.shp'>"
      ]
     },
     "execution_count": 200,
     "metadata": {},
     "output_type": "execute_result"
    }
   ],
   "source": [
    "zlaczone = arcpy.management.UnsplitLine(\n",
    "    in_features=\"wynik2\",\n",
    "    out_feature_class=r\"C:\\Rok3\\teledetekcja\\2\\projekt.gdb\\wynik2_UnsplitLine\",\n",
    "    dissolve_field=None,\n",
    "    statistics_fields=None,\n",
    "    concatenation_separator=\"\"\n",
    ")\n",
    "wynik3 = arcpy.management.SelectLayerByAttribute(\n",
    "    in_layer_or_view=zlaczone,\n",
    "    selection_type=\"NEW_SELECTION\",\n",
    "    where_clause=\"Shape_Length > 75\",\n",
    "    invert_where_clause=None\n",
    ")\n",
    "arcpy.management.CopyFeatures(wynik3,r\"C:\\Rok3\\teledetekcja\\2\\proj2\\wynik3\")"
   ]
  },
  {
   "cell_type": "code",
   "execution_count": null,
   "metadata": {},
   "outputs": [],
   "source": []
  }
 ],
 "metadata": {
  "kernelspec": {
   "display_name": "ArcGISPro",
   "language": "Python",
   "name": "python3"
  },
  "language_info": {
   "file_extension": ".py",
   "name": "python",
   "version": "3"
  }
 },
 "nbformat": 4,
 "nbformat_minor": 2
}
